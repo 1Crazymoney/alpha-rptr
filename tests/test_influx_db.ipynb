{
 "cells": [
  {
   "cell_type": "code",
   "execution_count": 1,
   "metadata": {},
   "outputs": [],
   "source": [
    "import sys\n",
    " \n",
    "# adding Folder_2/subfolder to the system path\n",
    "sys.path.insert(0, '../')\n",
    "\n",
    "from src.config import config as conf\n",
    "\n",
    "conf[\"args\"] = type('Object', (object,), {})  \n",
    "conf[\"args\"].account = \"binanceaccount1\"\n",
    "\n",
    "from src import log_metrics\n",
    "\n",
    "from datetime import datetime"
   ]
  },
  {
   "cell_type": "code",
   "execution_count": 2,
   "metadata": {},
   "outputs": [],
   "source": [
    "log_metrics(datetime.utcnow(), \"test\", {\n",
    "        \"balance\": 1000,\n",
    "        \"pnl\": -500,\n",
    "        \"margin\": 500\n",
    "    },\n",
    "    {\n",
    "        \"account\": \"binance1\",\n",
    "        \"pair\": \"BTCUSDT\",\n",
    "        \"base_asset\": \"BTC\",\n",
    "        \"quote_asset\": \"USDT\",\n",
    "        \"strategy\": \"SMA\"\n",
    "    })"
   ]
  }
 ],
 "metadata": {
  "kernelspec": {
   "display_name": "Python 3",
   "language": "python",
   "name": "python3"
  },
  "language_info": {
   "codemirror_mode": {
    "name": "ipython",
    "version": 3
   },
   "file_extension": ".py",
   "mimetype": "text/x-python",
   "name": "python",
   "nbconvert_exporter": "python",
   "pygments_lexer": "ipython3",
   "version": "3.10.6"
  },
  "orig_nbformat": 4
 },
 "nbformat": 4,
 "nbformat_minor": 2
}
